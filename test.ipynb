{
 "cells": [
  {
   "cell_type": "markdown",
   "id": "7456fa42",
   "metadata": {},
   "source": [
    "# LionLinker Testing Notebook\n",
    "This notebook is used to test each component of the LionLinker pipeline individually."
   ]
  },
  {
   "cell_type": "code",
   "execution_count": 1,
   "id": "945fc3c7",
   "metadata": {},
   "outputs": [
    {
     "name": "stderr",
     "output_type": "stream",
     "text": [
      "2024-08-26 16:34:04,678 - INFO - Initializing components...\n",
      "2024-08-26 16:34:04,679 - INFO - Setup completed.\n",
      "2024-08-26 16:34:04,680 - INFO - Starting processing of tests/data/imdb_top_1000.csv...\n",
      "Processing Batches:   0%|          | 0/942 [00:00<?, ?it/s]2024-08-26 16:34:05,479 - INFO - HTTP Request: POST http://127.0.0.1:11434/api/chat \"HTTP/1.1 200 OK\"\n"
     ]
    },
    {
     "name": "stdout",
     "output_type": "stream",
     "text": [
      "Chunk:                                      Series_Title  Released_Year  \\\n",
      "0                       The Shawshank Redemption           1994   \n",
      "1                                  The Godfather           1972   \n",
      "2                                The Dark Knight           2008   \n",
      "3                         The Godfather: Part II           1974   \n",
      "4                                   12 Angry Men           1957   \n",
      "5  The Lord of the Rings: The Return of the King           2003   \n",
      "6                                   Pulp Fiction           1994   \n",
      "7                               Schindler's List           1993   \n",
      "8                                      Inception           2010   \n",
      "9                                     Fight Club           1999   \n",
      "\n",
      "   Runtime (min)                      Genre  IMDB_Rating  \\\n",
      "0            142                      Drama          9.3   \n",
      "1            175               Crime, Drama          9.2   \n",
      "2            152       Action, Crime, Drama          9.0   \n",
      "3            202               Crime, Drama          9.0   \n",
      "4             96               Crime, Drama          9.0   \n",
      "5            201   Action, Adventure, Drama          8.9   \n",
      "6            154               Crime, Drama          8.9   \n",
      "7            195  Biography, Drama, History          8.9   \n",
      "8            148  Action, Adventure, Sci-Fi          8.8   \n",
      "9            139                      Drama          8.8   \n",
      "\n",
      "                                            Overview  Meta_score  \\\n",
      "0  Two imprisoned men bond over a number of years...        80.0   \n",
      "1  An organized crime dynasty's aging patriarch t...       100.0   \n",
      "2  When the menace known as the Joker wreaks havo...        84.0   \n",
      "3  The early life and career of Vito Corleone in ...        90.0   \n",
      "4  A jury holdout attempts to prevent a miscarria...        96.0   \n",
      "5  Gandalf and Aragorn lead the World of Men agai...        94.0   \n",
      "6  The lives of two mob hitmen, a boxer, a gangst...        94.0   \n",
      "7  In German-occupied Poland during World War II,...        94.0   \n",
      "8  A thief who steals corporate secrets through t...        74.0   \n",
      "9  An insomniac office worker and a devil-may-car...        66.0   \n",
      "\n",
      "               Director              Star1  No_of_Votes        Gross  \n",
      "0        Frank Darabont        Tim Robbins      2343110   28,341,469  \n",
      "1  Francis Ford Coppola      Marlon Brando      1620367  134,966,411  \n",
      "2     Christopher Nolan     Christian Bale      2303232  534,858,444  \n",
      "3  Francis Ford Coppola          Al Pacino      1129952   57,300,000  \n",
      "4          Sidney Lumet        Henry Fonda       689845    4,360,000  \n",
      "5         Peter Jackson        Elijah Wood      1642758  377,845,905  \n",
      "6     Quentin Tarantino      John Travolta      1826188  107,928,762  \n",
      "7      Steven Spielberg        Liam Neeson      1213505   96,898,818  \n",
      "8     Christopher Nolan  Leonardo DiCaprio      2067042  292,576,195  \n",
      "9         David Fincher          Brad Pitt      1854740   37,030,102  \n",
      "Processing row 0\n"
     ]
    },
    {
     "name": "stderr",
     "output_type": "stream",
     "text": [
      "2024-08-26 16:34:07,271 - INFO - HTTP Request: POST http://127.0.0.1:11434/api/chat \"HTTP/1.1 200 OK\"\n"
     ]
    },
    {
     "name": "stdout",
     "output_type": "stream",
     "text": [
      "Processing row 1\n"
     ]
    },
    {
     "name": "stderr",
     "output_type": "stream",
     "text": [
      "2024-08-26 16:34:08,132 - INFO - HTTP Request: POST http://127.0.0.1:11434/api/chat \"HTTP/1.1 200 OK\"\n"
     ]
    },
    {
     "name": "stdout",
     "output_type": "stream",
     "text": [
      "Processing row 2\n"
     ]
    },
    {
     "name": "stderr",
     "output_type": "stream",
     "text": [
      "2024-08-26 16:34:09,160 - INFO - HTTP Request: POST http://127.0.0.1:11434/api/chat \"HTTP/1.1 200 OK\"\n"
     ]
    },
    {
     "name": "stdout",
     "output_type": "stream",
     "text": [
      "Processing row 3\n"
     ]
    },
    {
     "name": "stderr",
     "output_type": "stream",
     "text": [
      "2024-08-26 16:34:10,022 - INFO - HTTP Request: POST http://127.0.0.1:11434/api/chat \"HTTP/1.1 200 OK\"\n"
     ]
    },
    {
     "name": "stdout",
     "output_type": "stream",
     "text": [
      "Processing row 4\n"
     ]
    },
    {
     "name": "stderr",
     "output_type": "stream",
     "text": [
      "2024-08-26 16:34:10,883 - INFO - HTTP Request: POST http://127.0.0.1:11434/api/chat \"HTTP/1.1 200 OK\"\n"
     ]
    },
    {
     "name": "stdout",
     "output_type": "stream",
     "text": [
      "Processing row 5\n"
     ]
    },
    {
     "name": "stderr",
     "output_type": "stream",
     "text": [
      "2024-08-26 16:34:11,761 - INFO - HTTP Request: POST http://127.0.0.1:11434/api/chat \"HTTP/1.1 200 OK\"\n"
     ]
    },
    {
     "name": "stdout",
     "output_type": "stream",
     "text": [
      "Processing row 6\n"
     ]
    },
    {
     "name": "stderr",
     "output_type": "stream",
     "text": [
      "2024-08-26 16:34:12,594 - INFO - HTTP Request: POST http://127.0.0.1:11434/api/chat \"HTTP/1.1 200 OK\"\n"
     ]
    },
    {
     "name": "stdout",
     "output_type": "stream",
     "text": [
      "Processing row 7\n"
     ]
    },
    {
     "name": "stderr",
     "output_type": "stream",
     "text": [
      "2024-08-26 16:34:13,513 - INFO - HTTP Request: POST http://127.0.0.1:11434/api/chat \"HTTP/1.1 200 OK\"\n"
     ]
    },
    {
     "name": "stdout",
     "output_type": "stream",
     "text": [
      "Processing row 8\n"
     ]
    },
    {
     "name": "stderr",
     "output_type": "stream",
     "text": [
      "2024-08-26 16:34:14,373 - INFO - HTTP Request: POST http://127.0.0.1:11434/api/chat \"HTTP/1.1 200 OK\"\n"
     ]
    },
    {
     "name": "stdout",
     "output_type": "stream",
     "text": [
      "Processing row 9\n"
     ]
    },
    {
     "name": "stderr",
     "output_type": "stream",
     "text": [
      "2024-08-26 16:34:15,183 - INFO - HTTP Request: POST http://127.0.0.1:11434/api/chat \"HTTP/1.1 200 OK\"\n",
      "Processing Batches:   1%|          | 10/942 [00:10<16:32,  1.06s/it]"
     ]
    },
    {
     "name": "stdout",
     "output_type": "stream",
     "text": [
      "Chunk:                                           Series_Title  Released_Year  \\\n",
      "10  The Lord of the Rings: The Fellowship of the Ring           2001   \n",
      "11                                       Forrest Gump           1994   \n",
      "12                    Il buono, il brutto, il cattivo           1966   \n",
      "13              The Lord of the Rings: The Two Towers           2002   \n",
      "14                                         The Matrix           1999   \n",
      "15                                         Goodfellas           1990   \n",
      "16     Star Wars: Episode V - The Empire Strikes Back           1980   \n",
      "17                    One Flew Over the Cuckoo's Nest           1975   \n",
      "18                                           Hamilton           2020   \n",
      "19                                       Gisaengchung           2019   \n",
      "\n",
      "    Runtime (min)                       Genre  IMDB_Rating  \\\n",
      "10            178    Action, Adventure, Drama          8.8   \n",
      "11            142              Drama, Romance          8.8   \n",
      "12            161                     Western          8.8   \n",
      "13            179    Action, Adventure, Drama          8.7   \n",
      "14            136              Action, Sci-Fi          8.7   \n",
      "15            146     Biography, Crime, Drama          8.7   \n",
      "16            124  Action, Adventure, Fantasy          8.7   \n",
      "17            133                       Drama          8.7   \n",
      "18            160   Biography, Drama, History          8.6   \n",
      "19            132     Comedy, Drama, Thriller          8.6   \n",
      "\n",
      "                                             Overview  Meta_score  \\\n",
      "10  A meek Hobbit from the Shire and eight compani...        92.0   \n",
      "11  The presidencies of Kennedy and Johnson, the e...        82.0   \n",
      "12  A bounty hunting scam joins two men in an unea...        90.0   \n",
      "13  While Frodo and Sam edge closer to Mordor with...        87.0   \n",
      "14  When a beautiful stranger leads computer hacke...        73.0   \n",
      "15  The story of Henry Hill and his life in the mo...        90.0   \n",
      "16  After the Rebels are brutally overpowered by t...        82.0   \n",
      "17  A criminal pleads insanity and is admitted to ...        83.0   \n",
      "18  The real life of one of America's foremost fou...        90.0   \n",
      "19  Greed and class discrimination threaten the ne...        96.0   \n",
      "\n",
      "           Director               Star1  No_of_Votes        Gross  \n",
      "10    Peter Jackson         Elijah Wood      1661481  315,544,750  \n",
      "11  Robert Zemeckis           Tom Hanks      1809221  330,252,182  \n",
      "12     Sergio Leone      Clint Eastwood       688390    6,100,000  \n",
      "13    Peter Jackson         Elijah Wood      1485555  342,551,365  \n",
      "14   Lana Wachowski     Lilly Wachowski      1676426  171,479,930  \n",
      "15  Martin Scorsese      Robert De Niro      1020727   46,836,394  \n",
      "16   Irvin Kershner         Mark Hamill      1159315  290,475,067  \n",
      "17     Milos Forman      Jack Nicholson       918088  112,000,000  \n",
      "18      Thomas Kail  Lin-Manuel Miranda        55291          NaN  \n",
      "19     Bong Joon Ho        Kang-ho Song       552778   53,367,844  \n",
      "Processing row 10\n"
     ]
    },
    {
     "name": "stderr",
     "output_type": "stream",
     "text": [
      "2024-08-26 16:34:16,402 - INFO - HTTP Request: POST http://127.0.0.1:11434/api/chat \"HTTP/1.1 200 OK\"\n"
     ]
    },
    {
     "name": "stdout",
     "output_type": "stream",
     "text": [
      "Processing row 11\n"
     ]
    },
    {
     "name": "stderr",
     "output_type": "stream",
     "text": [
      "2024-08-26 16:34:17,285 - INFO - HTTP Request: POST http://127.0.0.1:11434/api/chat \"HTTP/1.1 200 OK\"\n"
     ]
    },
    {
     "name": "stdout",
     "output_type": "stream",
     "text": [
      "Processing row 12\n"
     ]
    },
    {
     "name": "stderr",
     "output_type": "stream",
     "text": [
      "2024-08-26 16:34:18,260 - INFO - HTTP Request: POST http://127.0.0.1:11434/api/chat \"HTTP/1.1 200 OK\"\n"
     ]
    },
    {
     "name": "stdout",
     "output_type": "stream",
     "text": [
      "Processing row 13\n"
     ]
    },
    {
     "name": "stderr",
     "output_type": "stream",
     "text": [
      "2024-08-26 16:34:19,104 - INFO - HTTP Request: POST http://127.0.0.1:11434/api/chat \"HTTP/1.1 200 OK\"\n"
     ]
    },
    {
     "name": "stdout",
     "output_type": "stream",
     "text": [
      "Processing row 14\n"
     ]
    },
    {
     "name": "stderr",
     "output_type": "stream",
     "text": [
      "2024-08-26 16:34:19,964 - INFO - HTTP Request: POST http://127.0.0.1:11434/api/chat \"HTTP/1.1 200 OK\"\n"
     ]
    },
    {
     "name": "stdout",
     "output_type": "stream",
     "text": [
      "Processing row 15\n"
     ]
    },
    {
     "name": "stderr",
     "output_type": "stream",
     "text": [
      "2024-08-26 16:34:20,831 - INFO - HTTP Request: POST http://127.0.0.1:11434/api/chat \"HTTP/1.1 200 OK\"\n"
     ]
    },
    {
     "name": "stdout",
     "output_type": "stream",
     "text": [
      "Processing row 16\n"
     ]
    },
    {
     "name": "stderr",
     "output_type": "stream",
     "text": [
      "2024-08-26 16:34:21,698 - INFO - HTTP Request: POST http://127.0.0.1:11434/api/chat \"HTTP/1.1 200 OK\"\n"
     ]
    },
    {
     "name": "stdout",
     "output_type": "stream",
     "text": [
      "Processing row 17\n"
     ]
    },
    {
     "name": "stderr",
     "output_type": "stream",
     "text": [
      "2024-08-26 16:34:22,615 - INFO - HTTP Request: POST http://127.0.0.1:11434/api/chat \"HTTP/1.1 200 OK\"\n"
     ]
    },
    {
     "name": "stdout",
     "output_type": "stream",
     "text": [
      "Processing row 18\n"
     ]
    },
    {
     "name": "stderr",
     "output_type": "stream",
     "text": [
      "2024-08-26 16:34:23,476 - INFO - HTTP Request: POST http://127.0.0.1:11434/api/chat \"HTTP/1.1 200 OK\"\n"
     ]
    },
    {
     "name": "stdout",
     "output_type": "stream",
     "text": [
      "Processing row 19\n"
     ]
    },
    {
     "name": "stderr",
     "output_type": "stream",
     "text": [
      "2024-08-26 16:34:24,015 - INFO - HTTP Request: POST http://127.0.0.1:11434/api/chat \"HTTP/1.1 200 OK\"\n",
      "Processing Batches: 100%|██████████| 942/942 [00:19<00:00, 48.26it/s]\n",
      "2024-08-26 16:34:24,214 - INFO - Processing completed. Results are incrementally saved to output_test.csv\n"
     ]
    },
    {
     "name": "stdout",
     "output_type": "stream",
     "text": [
      "Chunk:                       Series_Title  Released_Year  Runtime (min)  \\\n",
      "20                Soorarai Pottru           2020            153   \n",
      "21                   Interstellar           2014            169   \n",
      "22                 Cidade de Deus           2002            130   \n",
      "23  Sen to Chihiro no kamikakushi           2001            125   \n",
      "24            Saving Private Ryan           1998            169   \n",
      "25                 The Green Mile           1999            189   \n",
      "26                La vita è bella           1997            116   \n",
      "27                          Se7en           1995            127   \n",
      "28       The Silence of the Lambs           1991            118   \n",
      "29                      Star Wars           1977            121   \n",
      "\n",
      "                           Genre  IMDB_Rating  \\\n",
      "20                         Drama          8.6   \n",
      "21      Adventure, Drama, Sci-Fi          8.6   \n",
      "22                  Crime, Drama          8.6   \n",
      "23  Animation, Adventure, Family          8.6   \n",
      "24                    Drama, War          8.6   \n",
      "25         Crime, Drama, Fantasy          8.6   \n",
      "26        Comedy, Drama, Romance          8.6   \n",
      "27         Crime, Drama, Mystery          8.6   \n",
      "28        Crime, Drama, Thriller          8.6   \n",
      "29    Action, Adventure, Fantasy          8.6   \n",
      "\n",
      "                                             Overview  Meta_score  \\\n",
      "20  Nedumaaran Rajangam \"Maara\" sets out to make t...         NaN   \n",
      "21  A team of explorers travel through a wormhole ...        74.0   \n",
      "22  In the slums of Rio, two kids' paths diverge a...        79.0   \n",
      "23  During her family's move to the suburbs, a sul...        96.0   \n",
      "24  Following the Normandy Landings, a group of U....        91.0   \n",
      "25  The lives of guards on Death Row are affected ...        61.0   \n",
      "26  When an open-minded Jewish librarian and his s...        59.0   \n",
      "27  Two detectives, a rookie and a veteran, hunt a...        65.0   \n",
      "28  A young F.B.I. cadet must receive the help of ...        85.0   \n",
      "29  Luke Skywalker joins forces with a Jedi Knight...        90.0   \n",
      "\n",
      "              Director                Star1  No_of_Votes        Gross  \n",
      "20       Sudha Kongara               Suriya        54995          NaN  \n",
      "21   Christopher Nolan  Matthew McConaughey      1512360  188,020,017  \n",
      "22  Fernando Meirelles           Kátia Lund       699256    7,563,397  \n",
      "23      Hayao Miyazaki        Daveigh Chase       651376   10,055,859  \n",
      "24    Steven Spielberg            Tom Hanks      1235804  216,540,909  \n",
      "25      Frank Darabont            Tom Hanks      1147794  136,801,374  \n",
      "26     Roberto Benigni      Roberto Benigni       623629   57,598,247  \n",
      "27       David Fincher       Morgan Freeman      1445096  100,125,643  \n",
      "28      Jonathan Demme         Jodie Foster      1270197  130,742,922  \n",
      "29        George Lucas          Mark Hamill      1231473  322,740,140  \n"
     ]
    }
   ],
   "source": [
    "from lion_linker.lion_linker import LionLinker\n",
    "\n",
    "# Define the path to the files\n",
    "input_csv = 'tests/data/imdb_top_1000.csv'\n",
    "prompt_file = 'prompt_template.txt'\n",
    "model_name = 'gemma2:2b'  # Replace with the actual model you are using\n",
    "api_url = 'https://lamapi.hel.sintef.cloud/lookup/entity-retrieval'  # Replace with the actual API URL\n",
    "api_token = 'lamapi_demo_2023'  # Replace with your API token if applicable\n",
    "output_csv = 'output_test.csv'\n",
    "batch_size = 10  # Small batch size for testing\n",
    "\n",
    "# Initialize the LionLinker instance\n",
    "lion_linker = LionLinker(input_csv, prompt_file, model_name, api_url, api_token, output_csv, batch_size, [\"Series_Title\"])\n",
    "await lion_linker.run()\n"
   ]
  },
  {
   "cell_type": "code",
   "execution_count": 3,
   "id": "f773236a",
   "metadata": {},
   "outputs": [
    {
     "data": {
      "text/html": [
       "<div>\n",
       "<style scoped>\n",
       "    .dataframe tbody tr th:only-of-type {\n",
       "        vertical-align: middle;\n",
       "    }\n",
       "\n",
       "    .dataframe tbody tr th {\n",
       "        vertical-align: top;\n",
       "    }\n",
       "\n",
       "    .dataframe thead th {\n",
       "        text-align: right;\n",
       "    }\n",
       "</style>\n",
       "<table border=\"1\" class=\"dataframe\">\n",
       "  <thead>\n",
       "    <tr style=\"text-align: right;\">\n",
       "      <th></th>\n",
       "      <th>Series_Title</th>\n",
       "      <th>Released_Year</th>\n",
       "      <th>Runtime (min)</th>\n",
       "      <th>Genre</th>\n",
       "      <th>IMDB_Rating</th>\n",
       "      <th>Overview</th>\n",
       "      <th>Meta_score</th>\n",
       "      <th>Director</th>\n",
       "      <th>Star1</th>\n",
       "      <th>No_of_Votes</th>\n",
       "      <th>Gross</th>\n",
       "    </tr>\n",
       "  </thead>\n",
       "  <tbody>\n",
       "    <tr>\n",
       "      <th>0</th>\n",
       "      <td>The Shawshank Redemption</td>\n",
       "      <td>1994</td>\n",
       "      <td>142</td>\n",
       "      <td>Drama</td>\n",
       "      <td>9.3</td>\n",
       "      <td>Two imprisoned men bond over a number of years...</td>\n",
       "      <td>80.0</td>\n",
       "      <td>Frank Darabont</td>\n",
       "      <td>Tim Robbins</td>\n",
       "      <td>2343110</td>\n",
       "      <td>28,341,469</td>\n",
       "    </tr>\n",
       "    <tr>\n",
       "      <th>1</th>\n",
       "      <td>The Godfather</td>\n",
       "      <td>1972</td>\n",
       "      <td>175</td>\n",
       "      <td>Crime, Drama</td>\n",
       "      <td>9.2</td>\n",
       "      <td>An organized crime dynasty's aging patriarch t...</td>\n",
       "      <td>100.0</td>\n",
       "      <td>Francis Ford Coppola</td>\n",
       "      <td>Marlon Brando</td>\n",
       "      <td>1620367</td>\n",
       "      <td>134,966,411</td>\n",
       "    </tr>\n",
       "    <tr>\n",
       "      <th>2</th>\n",
       "      <td>The Dark Knight</td>\n",
       "      <td>2008</td>\n",
       "      <td>152</td>\n",
       "      <td>Action, Crime, Drama</td>\n",
       "      <td>9.0</td>\n",
       "      <td>When the menace known as the Joker wreaks havo...</td>\n",
       "      <td>84.0</td>\n",
       "      <td>Christopher Nolan</td>\n",
       "      <td>Christian Bale</td>\n",
       "      <td>2303232</td>\n",
       "      <td>534,858,444</td>\n",
       "    </tr>\n",
       "    <tr>\n",
       "      <th>3</th>\n",
       "      <td>The Godfather: Part II</td>\n",
       "      <td>1974</td>\n",
       "      <td>202</td>\n",
       "      <td>Crime, Drama</td>\n",
       "      <td>9.0</td>\n",
       "      <td>The early life and career of Vito Corleone in ...</td>\n",
       "      <td>90.0</td>\n",
       "      <td>Francis Ford Coppola</td>\n",
       "      <td>Al Pacino</td>\n",
       "      <td>1129952</td>\n",
       "      <td>57,300,000</td>\n",
       "    </tr>\n",
       "    <tr>\n",
       "      <th>4</th>\n",
       "      <td>12 Angry Men</td>\n",
       "      <td>1957</td>\n",
       "      <td>96</td>\n",
       "      <td>Crime, Drama</td>\n",
       "      <td>9.0</td>\n",
       "      <td>A jury holdout attempts to prevent a miscarria...</td>\n",
       "      <td>96.0</td>\n",
       "      <td>Sidney Lumet</td>\n",
       "      <td>Henry Fonda</td>\n",
       "      <td>689845</td>\n",
       "      <td>4,360,000</td>\n",
       "    </tr>\n",
       "    <tr>\n",
       "      <th>5</th>\n",
       "      <td>The Lord of the Rings: The Return of the King</td>\n",
       "      <td>2003</td>\n",
       "      <td>201</td>\n",
       "      <td>Action, Adventure, Drama</td>\n",
       "      <td>8.9</td>\n",
       "      <td>Gandalf and Aragorn lead the World of Men agai...</td>\n",
       "      <td>94.0</td>\n",
       "      <td>Peter Jackson</td>\n",
       "      <td>Elijah Wood</td>\n",
       "      <td>1642758</td>\n",
       "      <td>377,845,905</td>\n",
       "    </tr>\n",
       "    <tr>\n",
       "      <th>6</th>\n",
       "      <td>Pulp Fiction</td>\n",
       "      <td>1994</td>\n",
       "      <td>154</td>\n",
       "      <td>Crime, Drama</td>\n",
       "      <td>8.9</td>\n",
       "      <td>The lives of two mob hitmen, a boxer, a gangst...</td>\n",
       "      <td>94.0</td>\n",
       "      <td>Quentin Tarantino</td>\n",
       "      <td>John Travolta</td>\n",
       "      <td>1826188</td>\n",
       "      <td>107,928,762</td>\n",
       "    </tr>\n",
       "    <tr>\n",
       "      <th>7</th>\n",
       "      <td>Schindler's List</td>\n",
       "      <td>1993</td>\n",
       "      <td>195</td>\n",
       "      <td>Biography, Drama, History</td>\n",
       "      <td>8.9</td>\n",
       "      <td>In German-occupied Poland during World War II,...</td>\n",
       "      <td>94.0</td>\n",
       "      <td>Steven Spielberg</td>\n",
       "      <td>Liam Neeson</td>\n",
       "      <td>1213505</td>\n",
       "      <td>96,898,818</td>\n",
       "    </tr>\n",
       "    <tr>\n",
       "      <th>8</th>\n",
       "      <td>Inception</td>\n",
       "      <td>2010</td>\n",
       "      <td>148</td>\n",
       "      <td>Action, Adventure, Sci-Fi</td>\n",
       "      <td>8.8</td>\n",
       "      <td>A thief who steals corporate secrets through t...</td>\n",
       "      <td>74.0</td>\n",
       "      <td>Christopher Nolan</td>\n",
       "      <td>Leonardo DiCaprio</td>\n",
       "      <td>2067042</td>\n",
       "      <td>292,576,195</td>\n",
       "    </tr>\n",
       "    <tr>\n",
       "      <th>9</th>\n",
       "      <td>Fight Club</td>\n",
       "      <td>1999</td>\n",
       "      <td>139</td>\n",
       "      <td>Drama</td>\n",
       "      <td>8.8</td>\n",
       "      <td>An insomniac office worker and a devil-may-car...</td>\n",
       "      <td>66.0</td>\n",
       "      <td>David Fincher</td>\n",
       "      <td>Brad Pitt</td>\n",
       "      <td>1854740</td>\n",
       "      <td>37,030,102</td>\n",
       "    </tr>\n",
       "    <tr>\n",
       "      <th>10</th>\n",
       "      <td>The Lord of the Rings: The Fellowship of the Ring</td>\n",
       "      <td>2001</td>\n",
       "      <td>178</td>\n",
       "      <td>Action, Adventure, Drama</td>\n",
       "      <td>8.8</td>\n",
       "      <td>A meek Hobbit from the Shire and eight compani...</td>\n",
       "      <td>92.0</td>\n",
       "      <td>Peter Jackson</td>\n",
       "      <td>Elijah Wood</td>\n",
       "      <td>1661481</td>\n",
       "      <td>315,544,750</td>\n",
       "    </tr>\n",
       "    <tr>\n",
       "      <th>11</th>\n",
       "      <td>Forrest Gump</td>\n",
       "      <td>1994</td>\n",
       "      <td>142</td>\n",
       "      <td>Drama, Romance</td>\n",
       "      <td>8.8</td>\n",
       "      <td>The presidencies of Kennedy and Johnson, the e...</td>\n",
       "      <td>82.0</td>\n",
       "      <td>Robert Zemeckis</td>\n",
       "      <td>Tom Hanks</td>\n",
       "      <td>1809221</td>\n",
       "      <td>330,252,182</td>\n",
       "    </tr>\n",
       "    <tr>\n",
       "      <th>12</th>\n",
       "      <td>Il buono, il brutto, il cattivo</td>\n",
       "      <td>1966</td>\n",
       "      <td>161</td>\n",
       "      <td>Western</td>\n",
       "      <td>8.8</td>\n",
       "      <td>A bounty hunting scam joins two men in an unea...</td>\n",
       "      <td>90.0</td>\n",
       "      <td>Sergio Leone</td>\n",
       "      <td>Clint Eastwood</td>\n",
       "      <td>688390</td>\n",
       "      <td>6,100,000</td>\n",
       "    </tr>\n",
       "    <tr>\n",
       "      <th>13</th>\n",
       "      <td>The Lord of the Rings: The Two Towers</td>\n",
       "      <td>2002</td>\n",
       "      <td>179</td>\n",
       "      <td>Action, Adventure, Drama</td>\n",
       "      <td>8.7</td>\n",
       "      <td>While Frodo and Sam edge closer to Mordor with...</td>\n",
       "      <td>87.0</td>\n",
       "      <td>Peter Jackson</td>\n",
       "      <td>Elijah Wood</td>\n",
       "      <td>1485555</td>\n",
       "      <td>342,551,365</td>\n",
       "    </tr>\n",
       "    <tr>\n",
       "      <th>14</th>\n",
       "      <td>The Matrix</td>\n",
       "      <td>1999</td>\n",
       "      <td>136</td>\n",
       "      <td>Action, Sci-Fi</td>\n",
       "      <td>8.7</td>\n",
       "      <td>When a beautiful stranger leads computer hacke...</td>\n",
       "      <td>73.0</td>\n",
       "      <td>Lana Wachowski</td>\n",
       "      <td>Lilly Wachowski</td>\n",
       "      <td>1676426</td>\n",
       "      <td>171,479,930</td>\n",
       "    </tr>\n",
       "    <tr>\n",
       "      <th>15</th>\n",
       "      <td>Goodfellas</td>\n",
       "      <td>1990</td>\n",
       "      <td>146</td>\n",
       "      <td>Biography, Crime, Drama</td>\n",
       "      <td>8.7</td>\n",
       "      <td>The story of Henry Hill and his life in the mo...</td>\n",
       "      <td>90.0</td>\n",
       "      <td>Martin Scorsese</td>\n",
       "      <td>Robert De Niro</td>\n",
       "      <td>1020727</td>\n",
       "      <td>46,836,394</td>\n",
       "    </tr>\n",
       "    <tr>\n",
       "      <th>16</th>\n",
       "      <td>Star Wars: Episode V - The Empire Strikes Back</td>\n",
       "      <td>1980</td>\n",
       "      <td>124</td>\n",
       "      <td>Action, Adventure, Fantasy</td>\n",
       "      <td>8.7</td>\n",
       "      <td>After the Rebels are brutally overpowered by t...</td>\n",
       "      <td>82.0</td>\n",
       "      <td>Irvin Kershner</td>\n",
       "      <td>Mark Hamill</td>\n",
       "      <td>1159315</td>\n",
       "      <td>290,475,067</td>\n",
       "    </tr>\n",
       "    <tr>\n",
       "      <th>17</th>\n",
       "      <td>One Flew Over the Cuckoo's Nest</td>\n",
       "      <td>1975</td>\n",
       "      <td>133</td>\n",
       "      <td>Drama</td>\n",
       "      <td>8.7</td>\n",
       "      <td>A criminal pleads insanity and is admitted to ...</td>\n",
       "      <td>83.0</td>\n",
       "      <td>Milos Forman</td>\n",
       "      <td>Jack Nicholson</td>\n",
       "      <td>918088</td>\n",
       "      <td>112,000,000</td>\n",
       "    </tr>\n",
       "    <tr>\n",
       "      <th>18</th>\n",
       "      <td>Hamilton</td>\n",
       "      <td>2020</td>\n",
       "      <td>160</td>\n",
       "      <td>Biography, Drama, History</td>\n",
       "      <td>8.6</td>\n",
       "      <td>The real life of one of America's foremost fou...</td>\n",
       "      <td>90.0</td>\n",
       "      <td>Thomas Kail</td>\n",
       "      <td>Lin-Manuel Miranda</td>\n",
       "      <td>55291</td>\n",
       "      <td>NaN</td>\n",
       "    </tr>\n",
       "    <tr>\n",
       "      <th>19</th>\n",
       "      <td>Gisaengchung</td>\n",
       "      <td>2019</td>\n",
       "      <td>132</td>\n",
       "      <td>Comedy, Drama, Thriller</td>\n",
       "      <td>8.6</td>\n",
       "      <td>Greed and class discrimination threaten the ne...</td>\n",
       "      <td>96.0</td>\n",
       "      <td>Bong Joon Ho</td>\n",
       "      <td>Kang-ho Song</td>\n",
       "      <td>552778</td>\n",
       "      <td>53,367,844</td>\n",
       "    </tr>\n",
       "  </tbody>\n",
       "</table>\n",
       "</div>"
      ],
      "text/plain": [
       "                                         Series_Title Released_Year  \\\n",
       "0                            The Shawshank Redemption          1994   \n",
       "1                                       The Godfather          1972   \n",
       "2                                     The Dark Knight          2008   \n",
       "3                              The Godfather: Part II          1974   \n",
       "4                                        12 Angry Men          1957   \n",
       "5       The Lord of the Rings: The Return of the King          2003   \n",
       "6                                        Pulp Fiction          1994   \n",
       "7                                    Schindler's List          1993   \n",
       "8                                           Inception          2010   \n",
       "9                                          Fight Club          1999   \n",
       "10  The Lord of the Rings: The Fellowship of the Ring          2001   \n",
       "11                                       Forrest Gump          1994   \n",
       "12                    Il buono, il brutto, il cattivo          1966   \n",
       "13              The Lord of the Rings: The Two Towers          2002   \n",
       "14                                         The Matrix          1999   \n",
       "15                                         Goodfellas          1990   \n",
       "16     Star Wars: Episode V - The Empire Strikes Back          1980   \n",
       "17                    One Flew Over the Cuckoo's Nest          1975   \n",
       "18                                           Hamilton          2020   \n",
       "19                                       Gisaengchung          2019   \n",
       "\n",
       "    Runtime (min)                       Genre  IMDB_Rating  \\\n",
       "0             142                       Drama          9.3   \n",
       "1             175                Crime, Drama          9.2   \n",
       "2             152        Action, Crime, Drama          9.0   \n",
       "3             202                Crime, Drama          9.0   \n",
       "4              96                Crime, Drama          9.0   \n",
       "5             201    Action, Adventure, Drama          8.9   \n",
       "6             154                Crime, Drama          8.9   \n",
       "7             195   Biography, Drama, History          8.9   \n",
       "8             148   Action, Adventure, Sci-Fi          8.8   \n",
       "9             139                       Drama          8.8   \n",
       "10            178    Action, Adventure, Drama          8.8   \n",
       "11            142              Drama, Romance          8.8   \n",
       "12            161                     Western          8.8   \n",
       "13            179    Action, Adventure, Drama          8.7   \n",
       "14            136              Action, Sci-Fi          8.7   \n",
       "15            146     Biography, Crime, Drama          8.7   \n",
       "16            124  Action, Adventure, Fantasy          8.7   \n",
       "17            133                       Drama          8.7   \n",
       "18            160   Biography, Drama, History          8.6   \n",
       "19            132     Comedy, Drama, Thriller          8.6   \n",
       "\n",
       "                                             Overview  Meta_score  \\\n",
       "0   Two imprisoned men bond over a number of years...        80.0   \n",
       "1   An organized crime dynasty's aging patriarch t...       100.0   \n",
       "2   When the menace known as the Joker wreaks havo...        84.0   \n",
       "3   The early life and career of Vito Corleone in ...        90.0   \n",
       "4   A jury holdout attempts to prevent a miscarria...        96.0   \n",
       "5   Gandalf and Aragorn lead the World of Men agai...        94.0   \n",
       "6   The lives of two mob hitmen, a boxer, a gangst...        94.0   \n",
       "7   In German-occupied Poland during World War II,...        94.0   \n",
       "8   A thief who steals corporate secrets through t...        74.0   \n",
       "9   An insomniac office worker and a devil-may-car...        66.0   \n",
       "10  A meek Hobbit from the Shire and eight compani...        92.0   \n",
       "11  The presidencies of Kennedy and Johnson, the e...        82.0   \n",
       "12  A bounty hunting scam joins two men in an unea...        90.0   \n",
       "13  While Frodo and Sam edge closer to Mordor with...        87.0   \n",
       "14  When a beautiful stranger leads computer hacke...        73.0   \n",
       "15  The story of Henry Hill and his life in the mo...        90.0   \n",
       "16  After the Rebels are brutally overpowered by t...        82.0   \n",
       "17  A criminal pleads insanity and is admitted to ...        83.0   \n",
       "18  The real life of one of America's foremost fou...        90.0   \n",
       "19  Greed and class discrimination threaten the ne...        96.0   \n",
       "\n",
       "                Director               Star1  No_of_Votes        Gross  \n",
       "0         Frank Darabont         Tim Robbins      2343110   28,341,469  \n",
       "1   Francis Ford Coppola       Marlon Brando      1620367  134,966,411  \n",
       "2      Christopher Nolan      Christian Bale      2303232  534,858,444  \n",
       "3   Francis Ford Coppola           Al Pacino      1129952   57,300,000  \n",
       "4           Sidney Lumet         Henry Fonda       689845    4,360,000  \n",
       "5          Peter Jackson         Elijah Wood      1642758  377,845,905  \n",
       "6      Quentin Tarantino       John Travolta      1826188  107,928,762  \n",
       "7       Steven Spielberg         Liam Neeson      1213505   96,898,818  \n",
       "8      Christopher Nolan   Leonardo DiCaprio      2067042  292,576,195  \n",
       "9          David Fincher           Brad Pitt      1854740   37,030,102  \n",
       "10         Peter Jackson         Elijah Wood      1661481  315,544,750  \n",
       "11       Robert Zemeckis           Tom Hanks      1809221  330,252,182  \n",
       "12          Sergio Leone      Clint Eastwood       688390    6,100,000  \n",
       "13         Peter Jackson         Elijah Wood      1485555  342,551,365  \n",
       "14        Lana Wachowski     Lilly Wachowski      1676426  171,479,930  \n",
       "15       Martin Scorsese      Robert De Niro      1020727   46,836,394  \n",
       "16        Irvin Kershner         Mark Hamill      1159315  290,475,067  \n",
       "17          Milos Forman      Jack Nicholson       918088  112,000,000  \n",
       "18           Thomas Kail  Lin-Manuel Miranda        55291          NaN  \n",
       "19          Bong Joon Ho        Kang-ho Song       552778   53,367,844  "
      ]
     },
     "execution_count": 3,
     "metadata": {},
     "output_type": "execute_result"
    }
   ],
   "source": [
    "import pandas as pd\n",
    "df = pd.read_csv(\"tests/data/imdb_top_1000.csv\")\n",
    "df[\"Series_Title\"].tolist()[200:207]\n",
    "len(df[\"Series_Title\"])\n",
    "df.head(20)"
   ]
  },
  {
   "cell_type": "code",
   "execution_count": 7,
   "id": "64c2d4ab",
   "metadata": {},
   "outputs": [
    {
     "data": {
      "text/plain": [
       "1000"
      ]
     },
     "execution_count": 7,
     "metadata": {},
     "output_type": "execute_result"
    }
   ],
   "source": [
    "df[\"Series_Title\"].notna().sum()"
   ]
  },
  {
   "cell_type": "markdown",
   "id": "d03ad528",
   "metadata": {},
   "source": [
    "## Test API Interaction\n",
    "Test the `APIClient` class to ensure it can fetch data correctly."
   ]
  },
  {
   "cell_type": "code",
   "execution_count": 3,
   "id": "96d76b0f",
   "metadata": {},
   "outputs": [],
   "source": [
    "from tqdm.asyncio import tqdm\n"
   ]
  },
  {
   "cell_type": "code",
   "execution_count": 2,
   "id": "0eb21379",
   "metadata": {},
   "outputs": [
    {
     "data": {
      "text/plain": [
       "{'Matrix': [{'id': 'Q44337',\n",
       "   'name': 'matrix',\n",
       "   'description': 'rectangular array of numbers, symbols, or expressions, arranged in rows and columns',\n",
       "   'types': []},\n",
       "  {'id': 'Q83495',\n",
       "   'name': 'Matrix',\n",
       "   'description': '1999 American science fiction action thriller film',\n",
       "   'types': [{'id': 'Q11424', 'name': 'film'}]},\n",
       "  {'id': 'Q193825',\n",
       "   'name': 'Matrix',\n",
       "   'description': 'structure external to cells, which provides structural support for cells or tissues',\n",
       "   'types': [{'id': 'Q5058355', 'name': 'cellular component'}]},\n",
       "  {'id': 'Q190069',\n",
       "   'name': 'Matrix',\n",
       "   'description': 'Wikimedia disambiguation page',\n",
       "   'types': [{'id': 'Q4167410', 'name': 'Wikimedia disambiguation page'}]},\n",
       "  {'id': 'Q1463013',\n",
       "   'name': 'matrix',\n",
       "   'description': 'geological term for the mass of material in which larger grains, crystals or clasts are embedded',\n",
       "   'types': [{'id': 'Q35758', 'name': 'matter'}]},\n",
       "  {'id': 'Q489649',\n",
       "   'name': 'Matrix',\n",
       "   'description': 'car model',\n",
       "   'types': [{'id': 'Q3231690', 'name': 'automobile model'}]},\n",
       "  {'id': 'Q3493378',\n",
       "   'name': 'Matrix',\n",
       "   'description': 'The gel-like material, with considerable fine structure, that lies in the matrix space, or lumen, of a mitochondrion. It contains the enzymes of the tricarboxylic acid cycle and, in some organisms, the enzymes concerned with fatty acid oxidation.',\n",
       "   'types': [{'id': 'Q5058355', 'name': 'cellular component'}]},\n",
       "  {'id': 'Q2609080',\n",
       "   'name': 'matrix',\n",
       "   'description': 'specialized tool for cutting or deforming',\n",
       "   'types': []},\n",
       "  {'id': 'Q1210827',\n",
       "   'name': 'Matrix',\n",
       "   'description': '1999–present films directed by The Wachowskis',\n",
       "   'types': [{'id': 'Q13593818', 'name': 'film trilogy'}]},\n",
       "  {'id': 'Q22906785',\n",
       "   'name': 'Matrix',\n",
       "   'description': 'networking protocol for real-time communication and data synchronization',\n",
       "   'types': [{'id': 'Q15836568', 'name': 'computer network protocol'},\n",
       "    {'id': 'Q5283178', 'name': 'distributed social network'},\n",
       "    {'id': 'Q58199', 'name': 'instant messaging'},\n",
       "    {'id': 'Q341', 'name': 'free software'}]}],\n",
       " 'Inception': [{'id': 'Q25188',\n",
       "   'name': 'Inception',\n",
       "   'description': '2010 science fiction film directed by Christopher Nolan',\n",
       "   'types': [{'id': 'Q11424', 'name': 'film'}]},\n",
       "  {'id': 'Q3797611',\n",
       "   'name': 'Inception',\n",
       "   'description': 'soundtrack album by Hans Zimmer for same-title film directed by Christopher Nolan',\n",
       "   'types': [{'id': 'Q482994', 'name': 'album'}]},\n",
       "  {'id': 'Q28452994',\n",
       "   'name': 'Inception',\n",
       "   'description': 'album by Sanctuary',\n",
       "   'types': [{'id': 'Q482994', 'name': 'album'}]},\n",
       "  {'id': 'Q182477',\n",
       "   'name': 'Inception Program',\n",
       "   'description': 'American multinational technology company',\n",
       "   'types': [{'id': 'Q4830453', 'name': 'business'},\n",
       "    {'id': 'Q6881511', 'name': 'enterprise'},\n",
       "    {'id': 'Q891723', 'name': 'public company'}]},\n",
       "  {'id': 'Q3406134',\n",
       "   'name': 'inception',\n",
       "   'description': 'date something was established',\n",
       "   'types': [{'id': 'Q2245405', 'name': 'key event'}]},\n",
       "  {'id': 'Q7653489',\n",
       "   'name': 'Inception Motorsports',\n",
       "   'description': 'stock car racing team',\n",
       "   'types': [{'id': 'Q4830453', 'name': 'business'}]},\n",
       "  {'id': 'Q85520081',\n",
       "   'name': 'Inception',\n",
       "   'description': '2014 Short film directed by Danial Hajibarat',\n",
       "   'types': [{'id': 'Q24862', 'name': 'short film'}]},\n",
       "  {'id': 'Q54888270',\n",
       "   'name': 'Inception',\n",
       "   'description': 'book by S. D. Perry',\n",
       "   'types': [{'id': 'Q47461344', 'name': 'written work'},\n",
       "    {'id': 'Q72996181', 'name': 'Star Trek novel'}]},\n",
       "  {'id': 'Q16688336',\n",
       "   'name': 'Inception',\n",
       "   'description': 'album',\n",
       "   'types': [{'id': 'Q482994', 'name': 'album'}]},\n",
       "  {'id': 'Q3797612',\n",
       "   'name': 'Inception',\n",
       "   'description': '1962 album by McCoy Tyner',\n",
       "   'types': [{'id': 'Q482994', 'name': 'album'}]}]}"
      ]
     },
     "execution_count": 2,
     "metadata": {},
     "output_type": "execute_result"
    }
   ],
   "source": [
    "api_client = lion_linker.api_client\n",
    "candidates = await api_client.fetch_multiple_entities([\"Matrix\", \"Inception\"])\n",
    "candidates"
   ]
  }
 ],
 "metadata": {
  "kernelspec": {
   "display_name": "Python 3",
   "language": "python",
   "name": "python3"
  },
  "language_info": {
   "codemirror_mode": {
    "name": "ipython",
    "version": 3
   },
   "file_extension": ".py",
   "mimetype": "text/x-python",
   "name": "python",
   "nbconvert_exporter": "python",
   "pygments_lexer": "ipython3",
   "version": "3.12.1"
  }
 },
 "nbformat": 4,
 "nbformat_minor": 5
}
