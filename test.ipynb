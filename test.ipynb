{
 "cells": [
  {
   "cell_type": "markdown",
   "id": "7456fa42",
   "metadata": {},
   "source": [
    "# LionLinker Testing Notebook\n",
    "This notebook is used to test each component of the LionLinker pipeline individually."
   ]
  },
  {
   "cell_type": "code",
   "execution_count": 1,
   "id": "945fc3c7",
   "metadata": {},
   "outputs": [
    {
     "name": "stderr",
     "output_type": "stream",
     "text": [
      "2024-08-22 15:22:58,963 - INFO - Initializing components...\n",
      "2024-08-22 15:22:58,966 - INFO - Setup completed.\n",
      "2024-08-22 15:22:58,966 - INFO - Starting processing of movies.csv...\n",
      "2024-08-22 15:23:04,315 - INFO - HTTP Request: POST http://127.0.0.1:11434/api/chat \"HTTP/1.1 200 OK\"\n",
      "Processing Batches: 0it [00:00, ?it/s]2024-08-22 15:23:07,960 - INFO - HTTP Request: POST http://127.0.0.1:11434/api/chat \"HTTP/1.1 200 OK\"\n",
      "2024-08-22 15:23:10,585 - INFO - HTTP Request: POST http://127.0.0.1:11434/api/chat \"HTTP/1.1 200 OK\"\n",
      "2024-08-22 15:23:13,206 - INFO - HTTP Request: POST http://127.0.0.1:11434/api/chat \"HTTP/1.1 200 OK\"\n",
      "2024-08-22 15:23:16,005 - INFO - HTTP Request: POST http://127.0.0.1:11434/api/chat \"HTTP/1.1 200 OK\"\n",
      "2024-08-22 15:23:18,636 - INFO - HTTP Request: POST http://127.0.0.1:11434/api/chat \"HTTP/1.1 200 OK\"\n",
      "Processing Batches: 1it [00:13, 13.90s/it]\n",
      "2024-08-22 15:23:19,090 - INFO - Processing completed. Results are incrementally saved to output_test.csv\n"
     ]
    }
   ],
   "source": [
    "\n",
    "import pandas as pd\n",
    "from lion_linker.core import APIClient, PromptGenerator, LLMInteraction\n",
    "from lion_linker.utils import clean_data, process_in_batches, parse_response\n",
    "from lion_linker.lion_linker import LionLinker\n",
    "\n",
    "# Define the path to the files\n",
    "input_csv = 'movies.csv'\n",
    "prompt_file = 'prompt_template.txt'\n",
    "model_name = 'gemma2'  # Replace with the actual model you are using\n",
    "api_url = 'https://lamapi.hel.sintef.cloud/lookup/entity-retrieval'  # Replace with the actual API URL\n",
    "api_token = 'lamapi_demo_2023'  # Replace with your API token if applicable\n",
    "output_csv = 'output_test.csv'\n",
    "batch_size = 10  # Small batch size for testing\n",
    "\n",
    "# Initialize the LionLinker instance\n",
    "lion_linker = LionLinker(input_csv, prompt_file, model_name, api_url, api_token, output_csv, batch_size, [\"title\"])\n",
    "await lion_linker.run()\n"
   ]
  },
  {
   "cell_type": "markdown",
   "id": "d03ad528",
   "metadata": {},
   "source": [
    "## Test API Interaction\n",
    "Test the `APIClient` class to ensure it can fetch data correctly."
   ]
  },
  {
   "cell_type": "code",
   "execution_count": 2,
   "id": "0eb21379",
   "metadata": {},
   "outputs": [
    {
     "data": {
      "text/plain": [
       "{'Matrix': [{'id': 'Q44337',\n",
       "   'name': 'matrix',\n",
       "   'description': 'rectangular array of numbers, symbols, or expressions, arranged in rows and columns',\n",
       "   'types': []},\n",
       "  {'id': 'Q83495',\n",
       "   'name': 'Matrix',\n",
       "   'description': '1999 American science fiction action thriller film',\n",
       "   'types': [{'id': 'Q11424', 'name': 'film'}]},\n",
       "  {'id': 'Q193825',\n",
       "   'name': 'Matrix',\n",
       "   'description': 'structure external to cells, which provides structural support for cells or tissues',\n",
       "   'types': [{'id': 'Q5058355', 'name': 'cellular component'}]},\n",
       "  {'id': 'Q190069',\n",
       "   'name': 'Matrix',\n",
       "   'description': 'Wikimedia disambiguation page',\n",
       "   'types': [{'id': 'Q4167410', 'name': 'Wikimedia disambiguation page'}]},\n",
       "  {'id': 'Q1463013',\n",
       "   'name': 'matrix',\n",
       "   'description': 'geological term for the mass of material in which larger grains, crystals or clasts are embedded',\n",
       "   'types': [{'id': 'Q35758', 'name': 'matter'}]},\n",
       "  {'id': 'Q489649',\n",
       "   'name': 'Matrix',\n",
       "   'description': 'car model',\n",
       "   'types': [{'id': 'Q3231690', 'name': 'automobile model'}]},\n",
       "  {'id': 'Q3493378',\n",
       "   'name': 'Matrix',\n",
       "   'description': 'The gel-like material, with considerable fine structure, that lies in the matrix space, or lumen, of a mitochondrion. It contains the enzymes of the tricarboxylic acid cycle and, in some organisms, the enzymes concerned with fatty acid oxidation.',\n",
       "   'types': [{'id': 'Q5058355', 'name': 'cellular component'}]},\n",
       "  {'id': 'Q2609080',\n",
       "   'name': 'matrix',\n",
       "   'description': 'specialized tool for cutting or deforming',\n",
       "   'types': []},\n",
       "  {'id': 'Q1210827',\n",
       "   'name': 'Matrix',\n",
       "   'description': '1999–present films directed by The Wachowskis',\n",
       "   'types': [{'id': 'Q13593818', 'name': 'film trilogy'}]},\n",
       "  {'id': 'Q22906785',\n",
       "   'name': 'Matrix',\n",
       "   'description': 'networking protocol for real-time communication and data synchronization',\n",
       "   'types': [{'id': 'Q15836568', 'name': 'computer network protocol'},\n",
       "    {'id': 'Q5283178', 'name': 'distributed social network'},\n",
       "    {'id': 'Q58199', 'name': 'instant messaging'},\n",
       "    {'id': 'Q341', 'name': 'free software'}]}],\n",
       " 'Inception': [{'id': 'Q25188',\n",
       "   'name': 'Inception',\n",
       "   'description': '2010 science fiction film directed by Christopher Nolan',\n",
       "   'types': [{'id': 'Q11424', 'name': 'film'}]},\n",
       "  {'id': 'Q3797611',\n",
       "   'name': 'Inception',\n",
       "   'description': 'soundtrack album by Hans Zimmer for same-title film directed by Christopher Nolan',\n",
       "   'types': [{'id': 'Q482994', 'name': 'album'}]},\n",
       "  {'id': 'Q28452994',\n",
       "   'name': 'Inception',\n",
       "   'description': 'album by Sanctuary',\n",
       "   'types': [{'id': 'Q482994', 'name': 'album'}]},\n",
       "  {'id': 'Q182477',\n",
       "   'name': 'Inception Program',\n",
       "   'description': 'American multinational technology company',\n",
       "   'types': [{'id': 'Q4830453', 'name': 'business'},\n",
       "    {'id': 'Q6881511', 'name': 'enterprise'},\n",
       "    {'id': 'Q891723', 'name': 'public company'}]},\n",
       "  {'id': 'Q3406134',\n",
       "   'name': 'inception',\n",
       "   'description': 'date something was established',\n",
       "   'types': [{'id': 'Q2245405', 'name': 'key event'}]},\n",
       "  {'id': 'Q7653489',\n",
       "   'name': 'Inception Motorsports',\n",
       "   'description': 'stock car racing team',\n",
       "   'types': [{'id': 'Q4830453', 'name': 'business'}]},\n",
       "  {'id': 'Q85520081',\n",
       "   'name': 'Inception',\n",
       "   'description': '2014 Short film directed by Danial Hajibarat',\n",
       "   'types': [{'id': 'Q24862', 'name': 'short film'}]},\n",
       "  {'id': 'Q54888270',\n",
       "   'name': 'Inception',\n",
       "   'description': 'book by S. D. Perry',\n",
       "   'types': [{'id': 'Q47461344', 'name': 'written work'},\n",
       "    {'id': 'Q72996181', 'name': 'Star Trek novel'}]},\n",
       "  {'id': 'Q16688336',\n",
       "   'name': 'Inception',\n",
       "   'description': 'album',\n",
       "   'types': [{'id': 'Q482994', 'name': 'album'}]},\n",
       "  {'id': 'Q3797612',\n",
       "   'name': 'Inception',\n",
       "   'description': '1962 album by McCoy Tyner',\n",
       "   'types': [{'id': 'Q482994', 'name': 'album'}]}]}"
      ]
     },
     "execution_count": 2,
     "metadata": {},
     "output_type": "execute_result"
    }
   ],
   "source": [
    "api_client = lion_linker.api_client\n",
    "candidates = await api_client.fetch_multiple_entities([\"Matrix\", \"Inception\"])\n",
    "candidates"
   ]
  }
 ],
 "metadata": {
  "kernelspec": {
   "display_name": "Python 3",
   "language": "python",
   "name": "python3"
  },
  "language_info": {
   "codemirror_mode": {
    "name": "ipython",
    "version": 3
   },
   "file_extension": ".py",
   "mimetype": "text/x-python",
   "name": "python",
   "nbconvert_exporter": "python",
   "pygments_lexer": "ipython3",
   "version": "3.12.1"
  }
 },
 "nbformat": 4,
 "nbformat_minor": 5
}
