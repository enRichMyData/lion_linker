{
 "cells": [
  {
   "cell_type": "markdown",
   "id": "7456fa42",
   "metadata": {},
   "source": [
    "# LionLinker Testing Notebook\n",
    "This notebook is used to test each component of the LionLinker pipeline individually."
   ]
  },
  {
   "cell_type": "code",
   "execution_count": 8,
   "id": "945fc3c7",
   "metadata": {},
   "outputs": [
    {
     "name": "stderr",
     "output_type": "stream",
     "text": [
      "2024-09-17 14:14:24,472 - INFO - Initializing components...\n",
      "2024-09-17 14:14:24,476 - INFO - Setup completed.\n",
      "2024-09-17 14:14:24,476 - INFO - Starting processing of tests/data/film.csv...\n",
      "2024-09-17 14:14:25,122 - INFO - HTTP Request: POST http://127.0.0.1:11434/api/chat \"HTTP/1.1 200 OK\"\n",
      "2024-09-17 14:14:27,291 - INFO - HTTP Request: POST http://127.0.0.1:11434/api/chat \"HTTP/1.1 200 OK\"\n",
      "2024-09-17 14:14:28,339 - INFO - HTTP Request: POST http://127.0.0.1:11434/api/chat \"HTTP/1.1 200 OK\"\n",
      "2024-09-17 14:14:29,227 - INFO - HTTP Request: POST http://127.0.0.1:11434/api/chat \"HTTP/1.1 200 OK\"\n",
      "2024-09-17 14:14:30,319 - INFO - HTTP Request: POST http://127.0.0.1:11434/api/chat \"HTTP/1.1 200 OK\"\n",
      "2024-09-17 14:14:31,454 - INFO - HTTP Request: POST http://127.0.0.1:11434/api/chat \"HTTP/1.1 200 OK\"\n",
      "2024-09-17 14:14:32,585 - INFO - HTTP Request: POST http://127.0.0.1:11434/api/chat \"HTTP/1.1 200 OK\"\n",
      "2024-09-17 14:14:33,484 - INFO - HTTP Request: POST http://127.0.0.1:11434/api/chat \"HTTP/1.1 200 OK\"\n",
      "2024-09-17 14:14:34,257 - INFO - HTTP Request: POST http://127.0.0.1:11434/api/chat \"HTTP/1.1 200 OK\"\n",
      "2024-09-17 14:14:35,475 - INFO - HTTP Request: POST http://127.0.0.1:11434/api/chat \"HTTP/1.1 200 OK\"\n",
      "2024-09-17 14:14:36,544 - INFO - HTTP Request: POST http://127.0.0.1:11434/api/chat \"HTTP/1.1 200 OK\"\n",
      "2024-09-17 14:14:38,524 - INFO - HTTP Request: POST http://127.0.0.1:11434/api/chat \"HTTP/1.1 200 OK\"\n",
      "2024-09-17 14:14:39,169 - INFO - HTTP Request: POST http://127.0.0.1:11434/api/chat \"HTTP/1.1 200 OK\"\n",
      "2024-09-17 14:14:39,755 - INFO - HTTP Request: POST http://127.0.0.1:11434/api/chat \"HTTP/1.1 200 OK\"\n",
      "2024-09-17 14:14:41,251 - INFO - HTTP Request: POST http://127.0.0.1:11434/api/chat \"HTTP/1.1 200 OK\"\n",
      "2024-09-17 14:14:42,321 - INFO - HTTP Request: POST http://127.0.0.1:11434/api/chat \"HTTP/1.1 200 OK\"\n",
      "2024-09-17 14:14:43,090 - INFO - HTTP Request: POST http://127.0.0.1:11434/api/chat \"HTTP/1.1 200 OK\"\n",
      "2024-09-17 14:14:44,183 - INFO - HTTP Request: POST http://127.0.0.1:11434/api/chat \"HTTP/1.1 200 OK\"\n",
      "2024-09-17 14:14:45,037 - INFO - HTTP Request: POST http://127.0.0.1:11434/api/chat \"HTTP/1.1 200 OK\"\n",
      "2024-09-17 14:14:46,232 - INFO - HTTP Request: POST http://127.0.0.1:11434/api/chat \"HTTP/1.1 200 OK\"\n",
      "2024-09-17 14:14:47,321 - INFO - HTTP Request: POST http://127.0.0.1:11434/api/chat \"HTTP/1.1 200 OK\"\n",
      "2024-09-17 14:14:49,003 - INFO - HTTP Request: POST http://127.0.0.1:11434/api/chat \"HTTP/1.1 200 OK\"\n",
      "2024-09-17 14:14:50,283 - INFO - HTTP Request: POST http://127.0.0.1:11434/api/chat \"HTTP/1.1 200 OK\"\n",
      "2024-09-17 14:14:51,153 - INFO - HTTP Request: POST http://127.0.0.1:11434/api/chat \"HTTP/1.1 200 OK\"\n",
      "2024-09-17 14:14:51,774 - INFO - HTTP Request: POST http://127.0.0.1:11434/api/chat \"HTTP/1.1 200 OK\"\n",
      "2024-09-17 14:14:53,438 - INFO - HTTP Request: POST http://127.0.0.1:11434/api/chat \"HTTP/1.1 200 OK\"\n",
      "Processing Batches: 100%|██████████| 26/26 [00:29<00:00,  1.12s/it]\n",
      "2024-09-17 14:14:53,640 - INFO - Processing completed. Results are incrementally saved to output_test.csv\n"
     ]
    }
   ],
   "source": [
    "from lion_linker.lion_linker import LionLinker\n",
    "\n",
    "# Define the path to the files\n",
    "input_csv = 'tests/data/film.csv'\n",
    "prompt_file = 'prompt_template.txt'\n",
    "model_name = 'gemma2:2b'  # Replace with the actual model you are using\n",
    "api_url = 'https://lamapi.hel.sintef.cloud/lookup/entity-retrieval'  # Replace with the actual API URL\n",
    "api_token = 'lamapi_demo_2023'  # Replace with your API token if applicable\n",
    "output_csv = 'output_test.csv'\n",
    "batch_size = 10  # Small batch size for testing\n",
    "\n",
    "# Initialize the LionLinker instance\n",
    "lion_linker = LionLinker(input_csv, prompt_file, model_name, api_url, api_token, output_csv, \n",
    "                         batch_size, [\"title\"], api_limit=10, compact_candidates=False)\n",
    "await lion_linker.run()\n"
   ]
  },
  {
   "cell_type": "code",
   "execution_count": 7,
   "id": "a10bfdeb",
   "metadata": {},
   "outputs": [
    {
     "name": "stdout",
     "output_type": "stream",
     "text": [
      "2024-08-27 15:03:25,194 - INFO - Initializing components...\n",
      "2024-08-27 15:03:25,196 - INFO - Setup completed.\n",
      "2024-08-27 15:03:25,196 - INFO - Starting processing of tests/data/film.csv...\n",
      "Processing Batches:   0%|                                | 0/26 [00:00<?, ?it/s]2024-08-27 15:03:27,762 - INFO - HTTP Request: POST http://127.0.0.1:11434/api/chat \"HTTP/1.1 200 OK\"\n",
      "2024-08-27 15:03:29,298 - INFO - HTTP Request: POST http://127.0.0.1:11434/api/chat \"HTTP/1.1 200 OK\"\n",
      "2024-08-27 15:03:30,084 - INFO - HTTP Request: POST http://127.0.0.1:11434/api/chat \"HTTP/1.1 200 OK\"\n",
      "2024-08-27 15:03:30,850 - INFO - HTTP Request: POST http://127.0.0.1:11434/api/chat \"HTTP/1.1 200 OK\"\n",
      "2024-08-27 15:03:31,592 - INFO - HTTP Request: POST http://127.0.0.1:11434/api/chat \"HTTP/1.1 200 OK\"\n",
      "2024-08-27 15:03:32,401 - INFO - HTTP Request: POST http://127.0.0.1:11434/api/chat \"HTTP/1.1 200 OK\"\n",
      "2024-08-27 15:03:33,150 - INFO - HTTP Request: POST http://127.0.0.1:11434/api/chat \"HTTP/1.1 200 OK\"\n",
      "2024-08-27 15:03:34,009 - INFO - HTTP Request: POST http://127.0.0.1:11434/api/chat \"HTTP/1.1 200 OK\"\n",
      "2024-08-27 15:03:34,770 - INFO - HTTP Request: POST http://127.0.0.1:11434/api/chat \"HTTP/1.1 200 OK\"\n",
      "2024-08-27 15:03:35,628 - INFO - HTTP Request: POST http://127.0.0.1:11434/api/chat \"HTTP/1.1 200 OK\"\n",
      "2024-08-27 15:03:36,487 - INFO - HTTP Request: POST http://127.0.0.1:11434/api/chat \"HTTP/1.1 200 OK\"\n",
      "Processing Batches:  38%|████████▊              | 10/26 [00:11<00:18,  1.14s/it]2024-08-27 15:03:37,743 - INFO - HTTP Request: POST http://127.0.0.1:11434/api/chat \"HTTP/1.1 200 OK\"\n",
      "2024-08-27 15:03:38,570 - INFO - HTTP Request: POST http://127.0.0.1:11434/api/chat \"HTTP/1.1 200 OK\"\n",
      "2024-08-27 15:03:39,646 - INFO - HTTP Request: POST http://127.0.0.1:11434/api/chat \"HTTP/1.1 200 OK\"\n",
      "2024-08-27 15:03:40,630 - INFO - HTTP Request: POST http://127.0.0.1:11434/api/chat \"HTTP/1.1 200 OK\"\n",
      "2024-08-27 15:03:41,370 - INFO - HTTP Request: POST http://127.0.0.1:11434/api/chat \"HTTP/1.1 200 OK\"\n",
      "2024-08-27 15:03:42,228 - INFO - HTTP Request: POST http://127.0.0.1:11434/api/chat \"HTTP/1.1 200 OK\"\n",
      "2024-08-27 15:03:42,928 - INFO - HTTP Request: POST http://127.0.0.1:11434/api/chat \"HTTP/1.1 200 OK\"\n",
      "2024-08-27 15:03:43,714 - INFO - HTTP Request: POST http://127.0.0.1:11434/api/chat \"HTTP/1.1 200 OK\"\n",
      "2024-08-27 15:03:44,523 - INFO - HTTP Request: POST http://127.0.0.1:11434/api/chat \"HTTP/1.1 200 OK\"\n",
      "2024-08-27 15:03:45,333 - INFO - HTTP Request: POST http://127.0.0.1:11434/api/chat \"HTTP/1.1 200 OK\"\n",
      "Processing Batches:  77%|█████████████████▋     | 20/26 [00:20<00:05,  1.01it/s]2024-08-27 15:03:46,389 - INFO - HTTP Request: POST http://127.0.0.1:11434/api/chat \"HTTP/1.1 200 OK\"\n",
      "2024-08-27 15:03:47,249 - INFO - HTTP Request: POST http://127.0.0.1:11434/api/chat \"HTTP/1.1 200 OK\"\n",
      "2024-08-27 15:03:48,013 - INFO - HTTP Request: POST http://127.0.0.1:11434/api/chat \"HTTP/1.1 200 OK\"\n",
      "2024-08-27 15:03:48,820 - INFO - HTTP Request: POST http://127.0.0.1:11434/api/chat \"HTTP/1.1 200 OK\"\n",
      "2024-08-27 15:03:49,620 - INFO - HTTP Request: POST http://127.0.0.1:11434/api/chat \"HTTP/1.1 200 OK\"\n",
      "Processing Batches: 100%|███████████████████████| 26/26 [00:24<00:00,  1.06it/s]\n",
      "2024-08-27 15:03:49,794 - INFO - Processing completed. Results are incrementally saved to output_test.csv\n"
     ]
    }
   ],
   "source": [
    "!python3 cli.py tests/data/film.csv output_test.csv --api-url https://lamapi.hel.sintef.cloud/lookup/entity-retrieval --api-token lamapi_demo_2023 --prompt-file prompt_template.txt --model gemma2:2b --batch-size 10 --mention_columns title"
   ]
  },
  {
   "cell_type": "code",
   "execution_count": 6,
   "id": "f773236a",
   "metadata": {},
   "outputs": [
    {
     "name": "stdout",
     "output_type": "stream",
     "text": [
      "Here is the summary of the table:\n",
      "The film Titanic was directed by James Cameron.\n",
      "\n",
      "Here is the data for the current row:\n",
      "title\n",
      "\n",
      "The column name in question is:\n",
      "\n",
      "\n",
      "The entity mention is:\n",
      "\n",
      "\n",
      "Possible candidates for the entity are:\n",
      "[{\"id\":\"Q2478025\",\"name\":\"Titanic\",\"description\":\"soundtrack album for the 1997 film Titanic\",\"types\":[{\"id\":\"Q482994\",\"name\":\"album\"}]},{\"id\":\"Q122032189\",\"name\":\"Titanic\",\"description\":\"book edition published in 2018\",\"types\":[{\"id\":\"Q3331189\",\"name\":\"version, edition or translation\"}]},{\"id\":\"Q3529506\",\"name\":\"Titanic\",\"description\":\"1998 debut studio album by Wenge BCBG Les Anges Adorables\",\"types\":[{\"id\":\"Q482994\",\"name\":\"album\"}]},{\"id\":\"Q12059061\",\"name\":\"Titanic\",\"description\":\"Czech band\",\"types\":[{\"id\":\"Q215380\",\"name\":\"musical group\"}]},{\"id\":\"Q25417640\",\"name\":\"Titanic\",\"description\":\"Wikimedia disambiguation page\",\"types\":[{\"id\":\"Q4167410\",\"name\":\"Wikimedia disambiguation page\"}]},{\"id\":\"Q84727764\",\"name\":\"Titanic\",\"description\":\"passenger/general cargo ship built in 1912\",\"types\":[{\"id\":\"Q11446\",\"name\":\"ship\"}]},{\"id\":\"Q16935372\",\"name\":\"Titanic\",\"description\":\"1927 film by Allan Dwan\",\"types\":[{\"id\":\"Q11424\",\"name\":\"film\"}]},{\"id\":\"Q47879\",\"name\":\"Titanic\",\"description\":\"German satiric magazine\",\"types\":[{\"id\":\"Q111914189\",\"name\":\"satirical magazine\"},{\"id\":\"Q1002697\",\"name\":\"periodical\"}]},{\"id\":\"Q638829\",\"name\":\"Titanic\",\"description\":\"1912 film directed by Mime Misu\",\"types\":[{\"id\":\"Q24862\",\"name\":\"short film\"}]},{\"id\":\"Q122044556\",\"name\":\"Titanic\",\"description\":\"book edition published in 1994\",\"types\":[{\"id\":\"Q3331189\",\"name\":\"version, edition or translation\"}]}]\n",
      "\n",
      "Identify the correct QID for the entity mention from the candidates listed above. Provide only the QID or NIL if none of the candidates is correct. No additional text is required.\n"
     ]
    }
   ],
   "source": [
    "from lion_linker.lion_linker import PromptGenerator, APIClient\n",
    "\n",
    "candidates = await APIClient(\"https://lamapi.hel.sintef.cloud/lookup/entity-retrieval\", \"lamapi_demo_2023\").fetch_multiple_entities([\"Titanic\", \"James Cameron\"])\n",
    "print(PromptGenerator(\"prompt_template.txt\").generate_prompt(\"The film Titanic was directed by James Cameron.\", \n",
    "                                                             \"title\", \"\", \"\", candidates[\"Titanic\"], compact=True))"
   ]
  },
  {
   "cell_type": "code",
   "execution_count": 3,
   "id": "64c2d4ab",
   "metadata": {},
   "outputs": [
    {
     "name": "stderr",
     "output_type": "stream",
     "text": [
      "2024-10-30 10:29:42,904 - INFO - Initializing components...\n",
      "2024-10-30 10:29:42,907 - INFO - Setup completed.\n",
      "2024-10-30 10:29:42,908 - INFO - Starting processing of ./tests/data/film_input_no_QIDs.csv...\n",
      "Processing Batches:   0%|          | 0/31 [00:00<?, ?it/s]2024-10-30 10:29:43,328 - INFO - HTTP Request: POST http://127.0.0.1:11434/api/chat \"HTTP/1.1 200 OK\"\n",
      "2024-10-30 10:29:45,626 - INFO - HTTP Request: POST http://127.0.0.1:11434/api/chat \"HTTP/1.1 200 OK\"\n",
      "2024-10-30 10:29:46,448 - INFO - HTTP Request: POST http://127.0.0.1:11434/api/chat \"HTTP/1.1 200 OK\"\n",
      "2024-10-30 10:29:47,290 - INFO - HTTP Request: POST http://127.0.0.1:11434/api/chat \"HTTP/1.1 200 OK\"\n",
      "2024-10-30 10:29:48,039 - INFO - HTTP Request: POST http://127.0.0.1:11434/api/chat \"HTTP/1.1 200 OK\"\n",
      "2024-10-30 10:29:48,789 - INFO - HTTP Request: POST http://127.0.0.1:11434/api/chat \"HTTP/1.1 200 OK\"\n",
      "2024-10-30 10:29:49,554 - INFO - HTTP Request: POST http://127.0.0.1:11434/api/chat \"HTTP/1.1 200 OK\"\n",
      "2024-10-30 10:29:50,256 - INFO - HTTP Request: POST http://127.0.0.1:11434/api/chat \"HTTP/1.1 200 OK\"\n",
      "2024-10-30 10:29:51,052 - INFO - HTTP Request: POST http://127.0.0.1:11434/api/chat \"HTTP/1.1 200 OK\"\n",
      "2024-10-30 10:29:51,865 - INFO - HTTP Request: POST http://127.0.0.1:11434/api/chat \"HTTP/1.1 200 OK\"\n",
      "2024-10-30 10:29:52,728 - INFO - HTTP Request: POST http://127.0.0.1:11434/api/chat \"HTTP/1.1 200 OK\"\n",
      "Processing Batches:  32%|███▏      | 10/31 [00:09<00:20,  1.02it/s]2024-10-30 10:29:54,238 - INFO - HTTP Request: POST http://127.0.0.1:11434/api/chat \"HTTP/1.1 200 OK\"\n",
      "2024-10-30 10:29:55,092 - INFO - HTTP Request: POST http://127.0.0.1:11434/api/chat \"HTTP/1.1 200 OK\"\n",
      "2024-10-30 10:29:56,035 - INFO - HTTP Request: POST http://127.0.0.1:11434/api/chat \"HTTP/1.1 200 OK\"\n",
      "2024-10-30 10:29:57,115 - INFO - HTTP Request: POST http://127.0.0.1:11434/api/chat \"HTTP/1.1 200 OK\"\n",
      "2024-10-30 10:29:57,902 - INFO - HTTP Request: POST http://127.0.0.1:11434/api/chat \"HTTP/1.1 200 OK\"\n",
      "2024-10-30 10:29:58,806 - INFO - HTTP Request: POST http://127.0.0.1:11434/api/chat \"HTTP/1.1 200 OK\"\n",
      "2024-10-30 10:29:59,601 - INFO - HTTP Request: POST http://127.0.0.1:11434/api/chat \"HTTP/1.1 200 OK\"\n",
      "2024-10-30 10:30:00,462 - INFO - HTTP Request: POST http://127.0.0.1:11434/api/chat \"HTTP/1.1 200 OK\"\n",
      "2024-10-30 10:30:01,362 - INFO - HTTP Request: POST http://127.0.0.1:11434/api/chat \"HTTP/1.1 200 OK\"\n",
      "2024-10-30 10:30:02,258 - INFO - HTTP Request: POST http://127.0.0.1:11434/api/chat \"HTTP/1.1 200 OK\"\n",
      "Processing Batches:  65%|██████▍   | 20/31 [00:19<00:10,  1.04it/s]2024-10-30 10:30:03,520 - INFO - HTTP Request: POST http://127.0.0.1:11434/api/chat \"HTTP/1.1 200 OK\"\n",
      "2024-10-30 10:30:04,383 - INFO - HTTP Request: POST http://127.0.0.1:11434/api/chat \"HTTP/1.1 200 OK\"\n",
      "2024-10-30 10:30:05,257 - INFO - HTTP Request: POST http://127.0.0.1:11434/api/chat \"HTTP/1.1 200 OK\"\n",
      "2024-10-30 10:30:05,740 - INFO - HTTP Request: POST http://127.0.0.1:11434/api/chat \"HTTP/1.1 200 OK\"\n",
      "2024-10-30 10:30:06,865 - INFO - HTTP Request: POST http://127.0.0.1:11434/api/chat \"HTTP/1.1 200 OK\"\n",
      "2024-10-30 10:30:07,756 - INFO - HTTP Request: POST http://127.0.0.1:11434/api/chat \"HTTP/1.1 200 OK\"\n",
      "2024-10-30 10:30:08,508 - INFO - HTTP Request: POST http://127.0.0.1:11434/api/chat \"HTTP/1.1 200 OK\"\n",
      "2024-10-30 10:30:09,258 - INFO - HTTP Request: POST http://127.0.0.1:11434/api/chat \"HTTP/1.1 200 OK\"\n",
      "2024-10-30 10:30:10,082 - INFO - HTTP Request: POST http://127.0.0.1:11434/api/chat \"HTTP/1.1 200 OK\"\n",
      "2024-10-30 10:30:10,651 - INFO - HTTP Request: POST http://127.0.0.1:11434/api/chat \"HTTP/1.1 200 OK\"\n",
      "Processing Batches: 100%|██████████| 31/31 [00:27<00:00,  1.11it/s]\n",
      "2024-10-30 10:30:10,746 - INFO - Processing completed. Results are incrementally saved to output_test.csv\n"
     ]
    },
    {
     "name": "stdout",
     "output_type": "stream",
     "text": [
      "Accuracy: 53.33%\n"
     ]
    }
   ],
   "source": [
    "\n"
   ]
  },
  {
   "cell_type": "markdown",
   "id": "d03ad528",
   "metadata": {},
   "source": [
    "## Test API Interaction\n",
    "Test the `APIClient` class to ensure it can fetch data correctly."
   ]
  },
  {
   "cell_type": "code",
   "execution_count": 10,
   "id": "96d76b0f",
   "metadata": {},
   "outputs": [
    {
     "name": "stdout",
     "output_type": "stream",
     "text": [
      "Accuracy: 100.00%\n"
     ]
    }
   ],
   "source": [
    "import pandas as pd\n",
    "result = pd.read_csv('./tests/data/testing.csv')\n",
    "gt = pd.read_csv('./tests/data/film_with_QIDs.csv')\n",
    "# Extract GT column and remove it from the input\n",
    "gt_column = gt['Title_QID']\n",
    "# Compute accuracy by comparing predicted QIDs with the ground truth\n",
    "accuracy = (result[\"id\"] == gt_column).mean()\n",
    "\n",
    "# Print accuracy\n",
    "print(f\"Accuracy: {accuracy * 100:.2f}%\")"
   ]
  },
  {
   "cell_type": "code",
   "execution_count": 2,
   "id": "0eb21379",
   "metadata": {},
   "outputs": [
    {
     "data": {
      "text/plain": [
       "{'Matrix': [{'id': 'Q44337',\n",
       "   'name': 'matrix',\n",
       "   'description': 'rectangular array of numbers, symbols, or expressions, arranged in rows and columns',\n",
       "   'types': []},\n",
       "  {'id': 'Q83495',\n",
       "   'name': 'Matrix',\n",
       "   'description': '1999 American science fiction action thriller film',\n",
       "   'types': [{'id': 'Q11424', 'name': 'film'}]},\n",
       "  {'id': 'Q193825',\n",
       "   'name': 'Matrix',\n",
       "   'description': 'structure external to cells, which provides structural support for cells or tissues',\n",
       "   'types': [{'id': 'Q5058355', 'name': 'cellular component'}]},\n",
       "  {'id': 'Q190069',\n",
       "   'name': 'Matrix',\n",
       "   'description': 'Wikimedia disambiguation page',\n",
       "   'types': [{'id': 'Q4167410', 'name': 'Wikimedia disambiguation page'}]},\n",
       "  {'id': 'Q1463013',\n",
       "   'name': 'matrix',\n",
       "   'description': 'geological term for the mass of material in which larger grains, crystals or clasts are embedded',\n",
       "   'types': [{'id': 'Q35758', 'name': 'matter'}]},\n",
       "  {'id': 'Q489649',\n",
       "   'name': 'Matrix',\n",
       "   'description': 'car model',\n",
       "   'types': [{'id': 'Q3231690', 'name': 'automobile model'}]},\n",
       "  {'id': 'Q3493378',\n",
       "   'name': 'Matrix',\n",
       "   'description': 'The gel-like material, with considerable fine structure, that lies in the matrix space, or lumen, of a mitochondrion. It contains the enzymes of the tricarboxylic acid cycle and, in some organisms, the enzymes concerned with fatty acid oxidation.',\n",
       "   'types': [{'id': 'Q5058355', 'name': 'cellular component'}]},\n",
       "  {'id': 'Q2609080',\n",
       "   'name': 'matrix',\n",
       "   'description': 'specialized tool for cutting or deforming',\n",
       "   'types': []},\n",
       "  {'id': 'Q1210827',\n",
       "   'name': 'Matrix',\n",
       "   'description': '1999–present films directed by The Wachowskis',\n",
       "   'types': [{'id': 'Q13593818', 'name': 'film trilogy'}]},\n",
       "  {'id': 'Q22906785',\n",
       "   'name': 'Matrix',\n",
       "   'description': 'networking protocol for real-time communication and data synchronization',\n",
       "   'types': [{'id': 'Q15836568', 'name': 'computer network protocol'},\n",
       "    {'id': 'Q5283178', 'name': 'distributed social network'},\n",
       "    {'id': 'Q58199', 'name': 'instant messaging'},\n",
       "    {'id': 'Q341', 'name': 'free software'}]}],\n",
       " 'Inception': [{'id': 'Q25188',\n",
       "   'name': 'Inception',\n",
       "   'description': '2010 science fiction film directed by Christopher Nolan',\n",
       "   'types': [{'id': 'Q11424', 'name': 'film'}]},\n",
       "  {'id': 'Q3797611',\n",
       "   'name': 'Inception',\n",
       "   'description': 'soundtrack album by Hans Zimmer for same-title film directed by Christopher Nolan',\n",
       "   'types': [{'id': 'Q482994', 'name': 'album'}]},\n",
       "  {'id': 'Q28452994',\n",
       "   'name': 'Inception',\n",
       "   'description': 'album by Sanctuary',\n",
       "   'types': [{'id': 'Q482994', 'name': 'album'}]},\n",
       "  {'id': 'Q182477',\n",
       "   'name': 'Inception Program',\n",
       "   'description': 'American multinational technology company',\n",
       "   'types': [{'id': 'Q4830453', 'name': 'business'},\n",
       "    {'id': 'Q6881511', 'name': 'enterprise'},\n",
       "    {'id': 'Q891723', 'name': 'public company'}]},\n",
       "  {'id': 'Q3406134',\n",
       "   'name': 'inception',\n",
       "   'description': 'date something was established',\n",
       "   'types': [{'id': 'Q2245405', 'name': 'key event'}]},\n",
       "  {'id': 'Q7653489',\n",
       "   'name': 'Inception Motorsports',\n",
       "   'description': 'stock car racing team',\n",
       "   'types': [{'id': 'Q4830453', 'name': 'business'}]},\n",
       "  {'id': 'Q85520081',\n",
       "   'name': 'Inception',\n",
       "   'description': '2014 Short film directed by Danial Hajibarat',\n",
       "   'types': [{'id': 'Q24862', 'name': 'short film'}]},\n",
       "  {'id': 'Q54888270',\n",
       "   'name': 'Inception',\n",
       "   'description': 'book by S. D. Perry',\n",
       "   'types': [{'id': 'Q47461344', 'name': 'written work'},\n",
       "    {'id': 'Q72996181', 'name': 'Star Trek novel'}]},\n",
       "  {'id': 'Q16688336',\n",
       "   'name': 'Inception',\n",
       "   'description': 'album',\n",
       "   'types': [{'id': 'Q482994', 'name': 'album'}]},\n",
       "  {'id': 'Q3797612',\n",
       "   'name': 'Inception',\n",
       "   'description': '1962 album by McCoy Tyner',\n",
       "   'types': [{'id': 'Q482994', 'name': 'album'}]}]}"
      ]
     },
     "execution_count": 2,
     "metadata": {},
     "output_type": "execute_result"
    }
   ],
   "source": [
    "api_client = lion_linker.api_client\n",
    "candidates = await api_client.fetch_multiple_entities([\"Matrix\", \"Inception\"])\n",
    "candidates"
   ]
  },
  {
   "cell_type": "code",
   "execution_count": 2,
   "id": "38fabf23",
   "metadata": {},
   "outputs": [
    {
     "name": "stderr",
     "output_type": "stream",
     "text": [
      "2024-09-19 16:47:50,611 - INFO - Initializing components...\n",
      "2024-09-19 16:47:50,613 - INFO - Setup completed.\n",
      "2024-09-19 16:47:50,614 - INFO - Starting processing of ./tests/data/film_input_no_QIDs.csv...\n"
     ]
    },
    {
     "name": "stderr",
     "output_type": "stream",
     "text": [
      "Processing Batches:   0%|          | 0/31 [00:00<?, ?it/s]2024-09-19 16:47:52,344 - INFO - HTTP Request: POST http://127.0.0.1:11434/api/chat \"HTTP/1.1 200 OK\"\n",
      "2024-09-19 16:48:03,306 - INFO - HTTP Request: POST http://127.0.0.1:11434/api/chat \"HTTP/1.1 200 OK\"\n",
      "2024-09-19 16:48:07,992 - INFO - HTTP Request: POST http://127.0.0.1:11434/api/chat \"HTTP/1.1 200 OK\"\n",
      "2024-09-19 16:48:11,534 - INFO - HTTP Request: POST http://127.0.0.1:11434/api/chat \"HTTP/1.1 200 OK\"\n",
      "2024-09-19 16:48:15,267 - INFO - HTTP Request: POST http://127.0.0.1:11434/api/chat \"HTTP/1.1 200 OK\"\n",
      "2024-09-19 16:48:19,635 - INFO - HTTP Request: POST http://127.0.0.1:11434/api/chat \"HTTP/1.1 200 OK\"\n",
      "2024-09-19 16:48:23,792 - INFO - HTTP Request: POST http://127.0.0.1:11434/api/chat \"HTTP/1.1 200 OK\"\n",
      "2024-09-19 16:48:31,327 - INFO - HTTP Request: POST http://127.0.0.1:11434/api/chat \"HTTP/1.1 200 OK\"\n",
      "2024-09-19 16:48:33,855 - INFO - HTTP Request: POST http://127.0.0.1:11434/api/chat \"HTTP/1.1 200 OK\"\n",
      "2024-09-19 16:48:40,414 - INFO - HTTP Request: POST http://127.0.0.1:11434/api/chat \"HTTP/1.1 200 OK\"\n",
      "2024-09-19 16:48:44,719 - INFO - HTTP Request: POST http://127.0.0.1:11434/api/chat \"HTTP/1.1 200 OK\"\n",
      "Processing Batches:  32%|███▏      | 10/31 [00:54<01:54,  5.44s/it]2024-09-19 16:48:49,593 - INFO - HTTP Request: POST http://127.0.0.1:11434/api/chat \"HTTP/1.1 200 OK\"\n",
      "2024-09-19 16:48:52,610 - INFO - HTTP Request: POST http://127.0.0.1:11434/api/chat \"HTTP/1.1 200 OK\"\n",
      "2024-09-19 16:48:54,371 - INFO - HTTP Request: POST http://127.0.0.1:11434/api/chat \"HTTP/1.1 200 OK\"\n",
      "2024-09-19 16:48:58,676 - INFO - HTTP Request: POST http://127.0.0.1:11434/api/chat \"HTTP/1.1 200 OK\"\n",
      "2024-09-19 16:49:02,221 - INFO - HTTP Request: POST http://127.0.0.1:11434/api/chat \"HTTP/1.1 200 OK\"\n",
      "2024-09-19 16:49:04,983 - INFO - HTTP Request: POST http://127.0.0.1:11434/api/chat \"HTTP/1.1 200 OK\"\n",
      "2024-09-19 16:49:08,154 - INFO - HTTP Request: POST http://127.0.0.1:11434/api/chat \"HTTP/1.1 200 OK\"\n",
      "2024-09-19 16:49:11,194 - INFO - HTTP Request: POST http://127.0.0.1:11434/api/chat \"HTTP/1.1 200 OK\"\n",
      "2024-09-19 16:49:15,559 - INFO - HTTP Request: POST http://127.0.0.1:11434/api/chat \"HTTP/1.1 200 OK\"\n",
      "2024-09-19 16:49:18,952 - INFO - HTTP Request: POST http://127.0.0.1:11434/api/chat \"HTTP/1.1 200 OK\"\n",
      "Processing Batches:  65%|██████▍   | 20/31 [01:29<00:47,  4.31s/it]2024-09-19 16:49:23,880 - INFO - HTTP Request: POST http://127.0.0.1:11434/api/chat \"HTTP/1.1 200 OK\"\n",
      "2024-09-19 16:49:29,044 - INFO - HTTP Request: POST http://127.0.0.1:11434/api/chat \"HTTP/1.1 200 OK\"\n",
      "2024-09-19 16:49:32,331 - INFO - HTTP Request: POST http://127.0.0.1:11434/api/chat \"HTTP/1.1 200 OK\"\n",
      "2024-09-19 16:49:34,867 - INFO - HTTP Request: POST http://127.0.0.1:11434/api/chat \"HTTP/1.1 200 OK\"\n",
      "2024-09-19 16:49:39,712 - INFO - HTTP Request: POST http://127.0.0.1:11434/api/chat \"HTTP/1.1 200 OK\"\n",
      "2024-09-19 16:49:43,854 - INFO - HTTP Request: POST http://127.0.0.1:11434/api/chat \"HTTP/1.1 200 OK\"\n",
      "2024-09-19 16:49:47,685 - INFO - HTTP Request: POST http://127.0.0.1:11434/api/chat \"HTTP/1.1 200 OK\"\n",
      "2024-09-19 16:49:50,671 - INFO - HTTP Request: POST http://127.0.0.1:11434/api/chat \"HTTP/1.1 200 OK\"\n",
      "2024-09-19 16:49:54,805 - INFO - HTTP Request: POST http://127.0.0.1:11434/api/chat \"HTTP/1.1 200 OK\"\n",
      "2024-09-19 16:49:58,525 - INFO - HTTP Request: POST http://127.0.0.1:11434/api/chat \"HTTP/1.1 200 OK\"\n",
      "Processing Batches: 100%|██████████| 31/31 [02:08<00:00,  4.14s/it]\n",
      "2024-09-19 16:49:58,888 - INFO - Processing completed. Results are incrementally saved to output_test.csv\n"
     ]
    },
    {
     "name": "stdout",
     "output_type": "stream",
     "text": [
      "Accuracy: 66.67%\n"
     ]
    }
   ],
   "source": [
    "import pandas as pd\n",
    "from lion_linker.lion_linker import LionLinker\n",
    "\n",
    "# Define paths to the files\n",
    "input_csv = './tests/data/film_with_QIDs.csv'  # Replace with the actual file path\n",
    "prompt_file = 'prompt_template.txt'  # File containing the prompt template\n",
    "output_csv = 'output_test.csv'  # File where LionLinker's results will be saved\n",
    "\n",
    "# Load the input CSV\n",
    "df = pd.read_csv(input_csv)\n",
    "\n",
    "# Extract GT column and remove it from the input\n",
    "gt_column = df['Title_QID']\n",
    "input_df = df.drop(columns=['Title_QID'])  # Input without GT\n",
    "\n",
    "# Save the modified input data for LionLinker\n",
    "input_csv_no_QIDs = './tests/data/film_input_no_QIDs.csv'\n",
    "input_df.to_csv(input_csv_no_QIDs, index=False)\n",
    "\n",
    "# Define LionLinker parameters\n",
    "model_name = 'mistral'  # Replace with your model name\n",
    "api_url = 'https://lamapi.hel.sintef.cloud/lookup/entity-retrieval'  # API URL\n",
    "api_token = 'lamapi_demo_2023'  # Your API token (if needed)\n",
    "batch_size = 10  # Define the batch size\n",
    "\n",
    "# Initialize LionLinker\n",
    "lion_linker = LionLinker(\n",
    "    input_csv_no_QIDs,  # Input CSV without the QIDs\n",
    "    prompt_file,\n",
    "    model_name,\n",
    "    api_url,\n",
    "    api_token,\n",
    "    output_csv,  # File to save the results\n",
    "    batch_size,\n",
    "    [\"title\"],  # List of columns to use for entity linking\n",
    "    api_limit=20,\n",
    "    compact_candidates=True \n",
    ")\n",
    "\n",
    "# Run LionLinker asynchronously\n",
    "await lion_linker.run()\n",
    "\n",
    "# Load LionLinker's results and compare with GT\n",
    "results_df = pd.read_csv(output_csv)  # Load LionLinker's output\n",
    "\n",
    "# Assuming LionLinker output has a 'predicted_QID' column\n",
    "predicted_QIDs = results_df['Extracted Identifier']\n",
    "\n",
    "# Compute accuracy by comparing predicted QIDs with the ground truth\n",
    "accuracy = (predicted_QIDs == gt_column).mean()\n",
    "\n",
    "# Print accuracy\n",
    "print(f\"Accuracy: {accuracy * 100:.2f}%\")"
   ]
  }
 ],
 "metadata": {
  "kernelspec": {
   "display_name": "Python 3",
   "language": "python",
   "name": "python3"
  },
  "language_info": {
   "codemirror_mode": {
    "name": "ipython",
    "version": 3
   },
   "file_extension": ".py",
   "mimetype": "text/x-python",
   "name": "python",
   "nbconvert_exporter": "python",
   "pygments_lexer": "ipython3",
   "version": "3.9.6"
  }
 },
 "nbformat": 4,
 "nbformat_minor": 5
}
